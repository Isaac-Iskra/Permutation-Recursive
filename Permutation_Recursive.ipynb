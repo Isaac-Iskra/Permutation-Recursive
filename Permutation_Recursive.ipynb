{
  "nbformat": 4,
  "nbformat_minor": 0,
  "metadata": {
    "colab": {
      "provenance": []
    },
    "kernelspec": {
      "name": "python3",
      "display_name": "Python 3"
    },
    "language_info": {
      "name": "python"
    }
  },
  "cells": [
    {
      "cell_type": "code",
      "execution_count": null,
      "metadata": {
        "id": "zjKtKxIHIG4d"
      },
      "outputs": [],
      "source": [
        "#Permutation Recursive"
      ]
    },
    {
      "cell_type": "code",
      "source": [
        "def permute(string, pocket=\"\"):\n",
        "  if len(string) == 0:\n",
        "      print(pocket)\n",
        "  else:\n",
        "      for i in range(len(string)):\n",
        "        letter = string[i]\n",
        "        front = string[0:i]\n",
        "        back = string[i+1:]\n",
        "        together = front + back\n",
        "        permute(together, letter + pocket)\n",
        "print(permute(\"ABCD\", \"\"))"
      ],
      "metadata": {
        "id": "3Mc7yDDdIKUe"
      },
      "execution_count": null,
      "outputs": []
    }
  ]
}